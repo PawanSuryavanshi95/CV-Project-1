{
  "nbformat": 4,
  "nbformat_minor": 0,
  "metadata": {
    "colab": {
      "provenance": []
    },
    "kernelspec": {
      "name": "python3",
      "display_name": "Python 3"
    },
    "language_info": {
      "name": "python"
    }
  },
  "cells": [
    {
      "cell_type": "code",
      "execution_count": 115,
      "metadata": {
        "id": "5CqNtrUnRg1H"
      },
      "outputs": [],
      "source": [
        "import cv2\n",
        "import os\n",
        "import numpy as np\n",
        "import matplotlib.pyplot as plt\n",
        "from sklearn.model_selection import train_test_split\n",
        "from sklearn.metrics import classification_report"
      ]
    },
    {
      "cell_type": "code",
      "source": [
        "from google.colab import drive\n",
        "drive.mount('/content/drive', force_remount=True)"
      ],
      "metadata": {
        "colab": {
          "base_uri": "https://localhost:8080/"
        },
        "id": "N6vdwZV8WAFC",
        "outputId": "a7643cfb-3ab4-4107-b18b-88aec6f670c9"
      },
      "execution_count": 116,
      "outputs": [
        {
          "output_type": "stream",
          "name": "stdout",
          "text": [
            "Mounted at /content/drive\n"
          ]
        }
      ]
    },
    {
      "cell_type": "code",
      "source": [
        "root = \"/content/drive/MyDrive/Computer Vision Project 1/\""
      ],
      "metadata": {
        "id": "XplD9TR6WFXS"
      },
      "execution_count": 117,
      "outputs": []
    },
    {
      "cell_type": "code",
      "source": [
        "face_cascade = cv2.CascadeClassifier(os.path.join(root, 'haarcascade_frontalface_default.xml'))"
      ],
      "metadata": {
        "id": "ZvvAMTCSXThy"
      },
      "execution_count": 118,
      "outputs": []
    },
    {
      "cell_type": "markdown",
      "source": [
        "### CelebA Dataset - 5 classes"
      ],
      "metadata": {
        "id": "dqUT7w9O7jFU"
      }
    },
    {
      "cell_type": "code",
      "source": [
        "num_classes = 5"
      ],
      "metadata": {
        "id": "vJGTxhY1s2wl"
      },
      "execution_count": 119,
      "outputs": []
    },
    {
      "cell_type": "code",
      "source": [
        "images = []\n",
        "labels = []\n",
        "for i in range(num_classes):\n",
        "    label_path = os.path.join(root, f'CelebA/data/{i+1}')\n",
        "    files = os.listdir(label_path)\n",
        "    for file_name in files:\n",
        "        img = cv2.imread(os.path.join(label_path, file_name), cv2.IMREAD_GRAYSCALE)\n",
        "        faces_bound = face_cascade.detectMultiScale(img, scaleFactor=1.2, minNeighbors=5)\n",
        "        if len(faces_bound) > 0:\n",
        "            (x, y, w, h) = faces_bound[0]\n",
        "            face = img[y:y+h, x:x+w]\n",
        "            face = cv2.resize(face, (128, 128))\n",
        "            images.append(face)\n",
        "            labels.append(i)"
      ],
      "metadata": {
        "id": "PYA31QVbWiZ6"
      },
      "execution_count": 120,
      "outputs": []
    },
    {
      "cell_type": "code",
      "source": [
        "len(images)"
      ],
      "metadata": {
        "colab": {
          "base_uri": "https://localhost:8080/"
        },
        "id": "tL0gBAoAZ8HS",
        "outputId": "35c9d43f-cf25-437b-a74d-f3b891c27ba1"
      },
      "execution_count": 121,
      "outputs": [
        {
          "output_type": "execute_result",
          "data": {
            "text/plain": [
              "93"
            ]
          },
          "metadata": {},
          "execution_count": 121
        }
      ]
    },
    {
      "cell_type": "code",
      "source": [
        "len(labels)"
      ],
      "metadata": {
        "colab": {
          "base_uri": "https://localhost:8080/"
        },
        "id": "M4jDoFGaXIhh",
        "outputId": "036d83be-a331-4d15-82d8-babde4be5854"
      },
      "execution_count": 122,
      "outputs": [
        {
          "output_type": "execute_result",
          "data": {
            "text/plain": [
              "93"
            ]
          },
          "metadata": {},
          "execution_count": 122
        }
      ]
    },
    {
      "cell_type": "code",
      "source": [
        "X_train, X_test, y_train, y_test = train_test_split(images, labels, test_size=0.2, random_state=42)"
      ],
      "metadata": {
        "id": "jmMAUNb5aYYt"
      },
      "execution_count": 123,
      "outputs": []
    },
    {
      "cell_type": "code",
      "source": [
        "fisher_face_model = cv2.face.FisherFaceRecognizer_create()"
      ],
      "metadata": {
        "id": "Sv6HzIbwaEw0"
      },
      "execution_count": 124,
      "outputs": []
    },
    {
      "cell_type": "code",
      "source": [
        "fisher_face_model.train(X_train, np.asarray(y_train))"
      ],
      "metadata": {
        "id": "h5DnPcxHaUz0"
      },
      "execution_count": 125,
      "outputs": []
    },
    {
      "cell_type": "code",
      "source": [
        "y_pred = []\n",
        "\n",
        "for img in X_test:\n",
        "    pred = fisher_face_model.predict(img)\n",
        "    y_pred.append(pred[0])"
      ],
      "metadata": {
        "id": "bFCZKBFKsxM7"
      },
      "execution_count": 126,
      "outputs": []
    },
    {
      "cell_type": "code",
      "source": [
        "print(classification_report(y_test, y_pred))"
      ],
      "metadata": {
        "colab": {
          "base_uri": "https://localhost:8080/"
        },
        "id": "yF0dqrJ5s7g0",
        "outputId": "99f419cd-1a07-4dc9-aab4-d8fb6a037dc8"
      },
      "execution_count": 127,
      "outputs": [
        {
          "output_type": "stream",
          "name": "stdout",
          "text": [
            "              precision    recall  f1-score   support\n",
            "\n",
            "           0       0.83      0.83      0.83         6\n",
            "           1       1.00      0.50      0.67         2\n",
            "           2       0.80      0.80      0.80         5\n",
            "           3       0.67      1.00      0.80         4\n",
            "           4       1.00      0.50      0.67         2\n",
            "\n",
            "    accuracy                           0.79        19\n",
            "   macro avg       0.86      0.73      0.75        19\n",
            "weighted avg       0.82      0.79      0.78        19\n",
            "\n"
          ]
        }
      ]
    },
    {
      "cell_type": "code",
      "source": [
        "ind = 4\n",
        "print(\"True Label\", y_test[ind])\n",
        "print(\"Predicted Label\", y_pred[ind])\n",
        "plt.imshow(X_test[ind], cmap=\"gray\")\n",
        "plt.show()"
      ],
      "metadata": {
        "colab": {
          "base_uri": "https://localhost:8080/",
          "height": 303
        },
        "id": "cH470z6Y_2xi",
        "outputId": "efd28992-9de9-49cd-f6d1-e18f62f45508"
      },
      "execution_count": 132,
      "outputs": [
        {
          "output_type": "stream",
          "name": "stdout",
          "text": [
            "True Label 0\n",
            "Predicted Label 0\n"
          ]
        },
        {
          "output_type": "display_data",
          "data": {
            "text/plain": [
              "<Figure size 432x288 with 1 Axes>"
            ],
            "image/png": "[encoded data removed]"
          },
          "metadata": {
            "needs_background": "light"
          }
        }
      ]
    },
    {
      "cell_type": "markdown",
      "source": [
        "### CelebA Dataset - 10 classes"
      ],
      "metadata": {
        "id": "q87E3Bl97nJB"
      }
    },
    {
      "cell_type": "code",
      "source": [
        "num_classes = 10"
      ],
      "metadata": {
        "id": "Y_S5ytwG7nJC"
      },
      "execution_count": 99,
      "outputs": []
    },
    {
      "cell_type": "code",
      "source": [
        "images = []\n",
        "labels = []\n",
        "for i in range(num_classes):\n",
        "    label_path = os.path.join(root, f'CelebA/data/{i+1}')\n",
        "    files = os.listdir(label_path)\n",
        "    for file_name in files:\n",
        "        img = cv2.imread(os.path.join(label_path, file_name), cv2.IMREAD_GRAYSCALE)\n",
        "        faces_bound = face_cascade.detectMultiScale(img, scaleFactor=1.2, minNeighbors=5)\n",
        "        if len(faces_bound) > 0:\n",
        "            (x, y, w, h) = faces_bound[0]\n",
        "            face = img[y:y+h, x:x+w]\n",
        "            face = cv2.resize(face, (128, 128))\n",
        "            images.append(face)\n",
        "            labels.append(i)"
      ],
      "metadata": {
        "id": "4VcqW6kL7nJC"
      },
      "execution_count": 100,
      "outputs": []
    },
    {
      "cell_type": "code",
      "source": [
        "len(images)"
      ],
      "metadata": {
        "colab": {
          "base_uri": "https://localhost:8080/"
        },
        "outputId": "b1582aaa-f23a-4766-d766-18d2001354c2",
        "id": "KkG18b2A7nJC"
      },
      "execution_count": 101,
      "outputs": [
        {
          "output_type": "execute_result",
          "data": {
            "text/plain": [
              "170"
            ]
          },
          "metadata": {},
          "execution_count": 101
        }
      ]
    },
    {
      "cell_type": "code",
      "source": [
        "len(labels)"
      ],
      "metadata": {
        "colab": {
          "base_uri": "https://localhost:8080/"
        },
        "outputId": "0c39c423-3dc3-4202-af5b-1ade66c2f96c",
        "id": "TwijEA5d7nJC"
      },
      "execution_count": 102,
      "outputs": [
        {
          "output_type": "execute_result",
          "data": {
            "text/plain": [
              "170"
            ]
          },
          "metadata": {},
          "execution_count": 102
        }
      ]
    },
    {
      "cell_type": "code",
      "source": [
        "X_train, X_test, y_train, y_test = train_test_split(images, labels, test_size=0.2, random_state=42)"
      ],
      "metadata": {
        "id": "YlQknlL67nJD"
      },
      "execution_count": 103,
      "outputs": []
    },
    {
      "cell_type": "code",
      "source": [
        "fisher_face_model = cv2.face.FisherFaceRecognizer_create()"
      ],
      "metadata": {
        "id": "DP8vfJ_d7nJD"
      },
      "execution_count": 104,
      "outputs": []
    },
    {
      "cell_type": "code",
      "source": [
        "fisher_face_model.train(X_train, np.asarray(y_train))"
      ],
      "metadata": {
        "id": "K7XINtGq7nJD"
      },
      "execution_count": 105,
      "outputs": []
    },
    {
      "cell_type": "code",
      "source": [
        "y_pred = []\n",
        "\n",
        "for img in X_test:\n",
        "    pred = fisher_face_model.predict(img)\n",
        "    y_pred.append(pred[0])"
      ],
      "metadata": {
        "id": "nbunEdxh7nJD"
      },
      "execution_count": 106,
      "outputs": []
    },
    {
      "cell_type": "code",
      "source": [
        "print(classification_report(y_test, y_pred))"
      ],
      "metadata": {
        "colab": {
          "base_uri": "https://localhost:8080/"
        },
        "outputId": "f86d47f3-c243-4f84-aade-d81a89261bfa",
        "id": "4L24XiRC7nJD"
      },
      "execution_count": 107,
      "outputs": [
        {
          "output_type": "stream",
          "name": "stdout",
          "text": [
            "              precision    recall  f1-score   support\n",
            "\n",
            "           0       0.80      0.57      0.67         7\n",
            "           1       1.00      0.33      0.50         3\n",
            "           2       1.00      0.67      0.80         3\n",
            "           3       0.50      0.75      0.60         4\n",
            "           4       0.40      0.50      0.44         4\n",
            "           5       1.00      1.00      1.00         1\n",
            "           6       0.36      0.80      0.50         5\n",
            "           7       1.00      0.67      0.80         3\n",
            "           8       0.00      0.00      0.00         1\n",
            "           9       0.00      0.00      0.00         3\n",
            "\n",
            "    accuracy                           0.56        34\n",
            "   macro avg       0.61      0.53      0.53        34\n",
            "weighted avg       0.62      0.56      0.55        34\n",
            "\n"
          ]
        },
        {
          "output_type": "stream",
          "name": "stderr",
          "text": [
            "/usr/local/lib/python3.9/dist-packages/sklearn/metrics/_classification.py:1344: UndefinedMetricWarning: Precision and F-score are ill-defined and being set to 0.0 in labels with no predicted samples. Use `zero_division` parameter to control this behavior.\n",
            "  _warn_prf(average, modifier, msg_start, len(result))\n",
            "/usr/local/lib/python3.9/dist-packages/sklearn/metrics/_classification.py:1344: UndefinedMetricWarning: Precision and F-score are ill-defined and being set to 0.0 in labels with no predicted samples. Use `zero_division` parameter to control this behavior.\n",
            "  _warn_prf(average, modifier, msg_start, len(result))\n",
            "/usr/local/lib/python3.9/dist-packages/sklearn/metrics/_classification.py:1344: UndefinedMetricWarning: Precision and F-score are ill-defined and being set to 0.0 in labels with no predicted samples. Use `zero_division` parameter to control this behavior.\n",
            "  _warn_prf(average, modifier, msg_start, len(result))\n"
          ]
        }
      ]
    },
    {
      "cell_type": "markdown",
      "source": [
        "### Custom Dataset\n"
      ],
      "metadata": {
        "id": "rtnlM72d0idp"
      }
    },
    {
      "cell_type": "code",
      "source": [
        "num_classes = 4"
      ],
      "metadata": {
        "id": "zPCMBsUx0nqn"
      },
      "execution_count": 73,
      "outputs": []
    },
    {
      "cell_type": "code",
      "source": [
        "images = []\n",
        "labels = []\n",
        "for i in range(num_classes):\n",
        "    label_path = os.path.join(root, f'Custom Dataset/data/{i+1}')\n",
        "    files = os.listdir(label_path)\n",
        "    for file_name in files:\n",
        "        img = cv2.imread(os.path.join(label_path, file_name), cv2.IMREAD_GRAYSCALE)\n",
        "        faces_bound = face_cascade.detectMultiScale(img, scaleFactor=1.2, minNeighbors=5)\n",
        "        if len(faces_bound) > 0:\n",
        "            (x, y, w, h) = faces_bound[0]\n",
        "            face = img[y:y+h, x:x+w]\n",
        "            face = cv2.resize(face, (128, 128))\n",
        "            images.append(face)\n",
        "            labels.append(i)"
      ],
      "metadata": {
        "id": "P4C2t2ff0nqn"
      },
      "execution_count": 74,
      "outputs": []
    },
    {
      "cell_type": "code",
      "source": [
        "len(images)"
      ],
      "metadata": {
        "colab": {
          "base_uri": "https://localhost:8080/"
        },
        "outputId": "9b049609-da72-4c92-d77c-2080be9b09aa",
        "id": "nBGVM4Bi0nqo"
      },
      "execution_count": 75,
      "outputs": [
        {
          "output_type": "execute_result",
          "data": {
            "text/plain": [
              "171"
            ]
          },
          "metadata": {},
          "execution_count": 75
        }
      ]
    },
    {
      "cell_type": "code",
      "source": [
        "len(labels)"
      ],
      "metadata": {
        "colab": {
          "base_uri": "https://localhost:8080/"
        },
        "outputId": "4c41f8ec-9aa3-4e48-fa41-e7a32cfaf6a8",
        "id": "bBnz2aKz0nqo"
      },
      "execution_count": 76,
      "outputs": [
        {
          "output_type": "execute_result",
          "data": {
            "text/plain": [
              "171"
            ]
          },
          "metadata": {},
          "execution_count": 76
        }
      ]
    },
    {
      "cell_type": "code",
      "source": [
        "X_train, X_test, y_train, y_test = train_test_split(images, labels, test_size=0.2, random_state=42)"
      ],
      "metadata": {
        "id": "y-Zdf9vO0nqo"
      },
      "execution_count": 77,
      "outputs": []
    },
    {
      "cell_type": "code",
      "source": [
        "fisher_face_model = cv2.face.FisherFaceRecognizer_create()"
      ],
      "metadata": {
        "id": "RyIutyZx0nqo"
      },
      "execution_count": 78,
      "outputs": []
    },
    {
      "cell_type": "code",
      "source": [
        "fisher_face_model.train(X_train, np.asarray(y_train))"
      ],
      "metadata": {
        "id": "MQhbAwCO0nqp"
      },
      "execution_count": 79,
      "outputs": []
    },
    {
      "cell_type": "code",
      "source": [
        "y_pred = []\n",
        "\n",
        "for img in X_test:\n",
        "    pred = fisher_face_model.predict(img)\n",
        "    y_pred.append(pred[0])"
      ],
      "metadata": {
        "id": "uMHfNoxV0nqp"
      },
      "execution_count": 80,
      "outputs": []
    },
    {
      "cell_type": "code",
      "source": [
        "print(classification_report(y_test, y_pred))"
      ],
      "metadata": {
        "colab": {
          "base_uri": "https://localhost:8080/"
        },
        "outputId": "cfa970a4-c8b2-49c6-eaa2-3bd0f48a7eb5",
        "id": "mx9-hbTE0nqp"
      },
      "execution_count": 81,
      "outputs": [
        {
          "output_type": "stream",
          "name": "stdout",
          "text": [
            "              precision    recall  f1-score   support\n",
            "\n",
            "           0       1.00      1.00      1.00        10\n",
            "           1       1.00      1.00      1.00         7\n",
            "           2       1.00      1.00      1.00         9\n",
            "           3       1.00      1.00      1.00         9\n",
            "\n",
            "    accuracy                           1.00        35\n",
            "   macro avg       1.00      1.00      1.00        35\n",
            "weighted avg       1.00      1.00      1.00        35\n",
            "\n"
          ]
        }
      ]
    },
    {
      "cell_type": "code",
      "source": [],
      "metadata": {
        "id": "d7CAcCr30qhl"
      },
      "execution_count": null,
      "outputs": []
    }
  ]
}