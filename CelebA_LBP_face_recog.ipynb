{
  "nbformat": 4,
  "nbformat_minor": 0,
  "metadata": {
    "colab": {
      "provenance": []
    },
    "kernelspec": {
      "name": "python3",
      "display_name": "Python 3"
    },
    "language_info": {
      "name": "python"
    }
  },
  "cells": [
    {
      "cell_type": "code",
      "execution_count": 1,
      "metadata": {
        "colab": {
          "base_uri": "https://localhost:8080/"
        },
        "id": "LZ9jBXyWnA9-",
        "outputId": "7e04f71c-2ade-44d4-eb46-925f1d5f36c2"
      },
      "outputs": [
        {
          "output_type": "stream",
          "name": "stdout",
          "text": [
            "Mounted at /content/drive\n"
          ]
        }
      ],
      "source": [
        "from google.colab import drive\n",
        "drive.mount('/content/drive')\n"
      ]
    },
    {
      "cell_type": "code",
      "source": [
        "%cd /content/drive/MyDrive/CoursePro-1_n/"
      ],
      "metadata": {
        "colab": {
          "base_uri": "https://localhost:8080/"
        },
        "id": "78Ub_eKUnlqo",
        "outputId": "eaf842e5-64bd-4bfb-a070-9f41726809b0"
      },
      "execution_count": 2,
      "outputs": [
        {
          "output_type": "stream",
          "name": "stdout",
          "text": [
            "/content/drive/.shortcut-targets-by-id/1onn_1kSa7iHxijMZ2oQekSToH4-kPUas/CoursePro-1_n\n"
          ]
        }
      ]
    },
    {
      "cell_type": "code",
      "source": [
        "import cv2\n",
        "import numpy as np\n",
        "import os\n",
        "from sklearn.metrics import f1_score\n",
        "from sklearn.model_selection import train_test_split\n",
        "from sklearn.neighbors import KNeighborsClassifier\n",
        "from sklearn.decomposition import PCA"
      ],
      "metadata": {
        "id": "8z3g06ihnCOV"
      },
      "execution_count": 3,
      "outputs": []
    },
    {
      "cell_type": "code",
      "source": [
        "# folder_paths = ['dataset/1','dataset/2', 'dataset/3', 'dataset/4', 'dataset/5' ]"
      ],
      "metadata": {
        "id": "V-0TvYOjnsTA"
      },
      "execution_count": 4,
      "outputs": []
    },
    {
      "cell_type": "code",
      "source": [
        "root = '/content/drive/MyDrive/CoursePro-1_n/'"
      ],
      "metadata": {
        "id": "bLluHB4amvAB"
      },
      "execution_count": 5,
      "outputs": []
    },
    {
      "cell_type": "code",
      "source": [
        "face_cascade = cv2.CascadeClassifier(os.path.join(root, 'haarcascade_frontalface_default.xml'))"
      ],
      "metadata": {
        "id": "oEY_AUTMwa3Q"
      },
      "execution_count": 6,
      "outputs": []
    },
    {
      "cell_type": "code",
      "source": [
        "# Load the images and store them in a numpy array\n",
        "dataset = []\n",
        "labels = []\n",
        "for i in range(5):\n",
        "    label_path = os.path.join(root, f'CelebA/data/{i+1}')\n",
        "    files = os.listdir(label_path)\n",
        "    for file_name in files:\n",
        "        img = cv2.imread(os.path.join(label_path, file_name), 0)\n",
        "        faces_bound = face_cascade.detectMultiScale(img, scaleFactor=1.2, minNeighbors=5)\n",
        "        if len(faces_bound) > 0:\n",
        "            (x, y, w, h) = faces_bound[0]\n",
        "            face = img[y:y+h, x:x+w]\n",
        "            face = cv2.resize(face, (128, 128))\n",
        "            dataset.append(face)\n",
        "            labels.append(i+1)"
      ],
      "metadata": {
        "id": "U-AiPp5lqcPU"
      },
      "execution_count": 7,
      "outputs": []
    },
    {
      "cell_type": "code",
      "source": [
        "# Split dataset into train and test sets\n",
        "train_ratio = 0.8\n",
        "train_size = int(len(dataset) * train_ratio)\n",
        "train_dataset = dataset[:train_size]\n",
        "train_labels = labels[:train_size]\n",
        "test_dataset = dataset[train_size:]\n",
        "test_labels = labels[train_size:]"
      ],
      "metadata": {
        "id": "GNtSPptUrFMf"
      },
      "execution_count": 8,
      "outputs": []
    },
    {
      "cell_type": "code",
      "source": [
        "# Create an LBP face recognizer\n",
        "recognizer = cv2.face.LBPHFaceRecognizer_create()\n",
        "# Train the recognizer\n",
        "recognizer.train(train_dataset, np.array(train_labels))"
      ],
      "metadata": {
        "id": "HfPcY6dCr01K"
      },
      "execution_count": 9,
      "outputs": []
    },
    {
      "cell_type": "code",
      "source": [
        "# Test the recognizer\n",
        "correct = 0\n",
        "total = 0\n",
        "for i, img in enumerate(test_dataset):\n",
        "    label, confidence = recognizer.predict(img)\n",
        "    if label == test_labels[i]:\n",
        "        correct += 1\n",
        "    total += 1\n",
        "accuracy = float(correct) / total\n",
        "print(\"Accuracy with 5 CelebA face:\", accuracy)\n"
      ],
      "metadata": {
        "colab": {
          "base_uri": "https://localhost:8080/"
        },
        "id": "WzsXvm7c1l7O",
        "outputId": "c6ca42c4-0f2f-4677-fb73-3a8f82aa15ed"
      },
      "execution_count": 12,
      "outputs": [
        {
          "output_type": "stream",
          "name": "stdout",
          "text": [
            "Accuracy with 5 CelebA face: 0.0\n"
          ]
        }
      ]
    },
    {
      "cell_type": "code",
      "source": [
        "# Test the recognizer\n",
        "correct = 0\n",
        "total = 0\n",
        "for i, img in enumerate(test_dataset):\n",
        "    label, confidence = recognizer.predict(img)\n",
        "    if label == test_labels[i]:\n",
        "        correct += 1\n",
        "    total += 1\n",
        "accuracy = float(correct) / total\n",
        "print(\"Accuracy with 10 CelebA face:\", accuracy)\n"
      ],
      "metadata": {
        "id": "0hEYvi5RqL3m",
        "colab": {
          "base_uri": "https://localhost:8080/"
        },
        "outputId": "6849db43-34d3-4e11-bdeb-745327a3358a"
      },
      "execution_count": 11,
      "outputs": [
        {
          "output_type": "stream",
          "name": "stdout",
          "text": [
            "Accuracy with 10 CelebA face: 0.0\n"
          ]
        }
      ]
    },
    {
      "cell_type": "code",
      "source": [],
      "metadata": {
        "id": "XVPrJ-SNr7uC"
      },
      "execution_count": null,
      "outputs": []
    }
  ]
}