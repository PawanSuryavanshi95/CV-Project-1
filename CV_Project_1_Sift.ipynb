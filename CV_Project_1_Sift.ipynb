{
  "nbformat": 4,
  "nbformat_minor": 0,
  "metadata": {
    "colab": {
      "provenance": []
    },
    "kernelspec": {
      "name": "python3",
      "display_name": "Python 3"
    },
    "language_info": {
      "name": "python"
    }
  },
  "cells": [
    {
      "cell_type": "code",
      "execution_count": 94,
      "metadata": {
        "id": "5CqNtrUnRg1H"
      },
      "outputs": [],
      "source": [
        "import cv2\n",
        "import os\n",
        "import numpy as np\n",
        "import matplotlib.pyplot as plt\n",
        "from sklearn.model_selection import train_test_split\n",
        "from sklearn.metrics import classification_report\n",
        "from sklearn.metrics import accuracy_score"
      ]
    },
    {
      "cell_type": "code",
      "source": [
        "from google.colab import drive\n",
        "drive.mount('/content/drive', force_remount=True)"
      ],
      "metadata": {
        "colab": {
          "base_uri": "https://localhost:8080/"
        },
        "id": "N6vdwZV8WAFC",
        "outputId": "6d6f5321-107a-4dfd-92d8-bd099422ed94"
      },
      "execution_count": 95,
      "outputs": [
        {
          "output_type": "stream",
          "name": "stdout",
          "text": [
            "Mounted at /content/drive\n"
          ]
        }
      ]
    },
    {
      "cell_type": "code",
      "source": [
        "root = \"/content/drive/MyDrive/Computer Vision Project 1/\""
      ],
      "metadata": {
        "id": "XplD9TR6WFXS"
      },
      "execution_count": 96,
      "outputs": []
    },
    {
      "cell_type": "code",
      "source": [
        "face_cascade = cv2.CascadeClassifier(os.path.join(root, 'haarcascade_frontalface_default.xml'))"
      ],
      "metadata": {
        "id": "ZvvAMTCSXThy"
      },
      "execution_count": 97,
      "outputs": []
    },
    {
      "cell_type": "markdown",
      "source": [
        "### CelebA Dataset - 5 Classes"
      ],
      "metadata": {
        "id": "adrkDeRZ0TXX"
      }
    },
    {
      "cell_type": "code",
      "source": [
        "num_classes = 5"
      ],
      "metadata": {
        "id": "7K0HyemoVa2g"
      },
      "execution_count": 98,
      "outputs": []
    },
    {
      "cell_type": "code",
      "source": [
        "images = []\n",
        "labels = []\n",
        "for i in range(num_classes):\n",
        "    label_path = os.path.join(root, f'CelebA/data/{i+1}')\n",
        "    files = os.listdir(label_path)\n",
        "    for file_name in files:\n",
        "        img = cv2.imread(os.path.join(label_path, file_name), cv2.IMREAD_GRAYSCALE)\n",
        "        faces_bound = face_cascade.detectMultiScale(img, scaleFactor=1.2, minNeighbors=5)\n",
        "        if len(faces_bound) > 0:\n",
        "            (x, y, w, h) = faces_bound[0]\n",
        "            face = img[y:y+h, x:x+w]\n",
        "            face = cv2.resize(face, (128, 128))\n",
        "            images.append(face)\n",
        "            labels.append(i)\n",
        "            break"
      ],
      "metadata": {
        "id": "PYA31QVbWiZ6"
      },
      "execution_count": 99,
      "outputs": []
    },
    {
      "cell_type": "code",
      "source": [
        "\n",
        "# Initialize the SIFT detector\n",
        "sift = cv2.SIFT_create()\n",
        "\n",
        "# Extract SIFT features and descriptors from each image\n",
        "all_kp = []\n",
        "all_desc = []\n",
        "for img in images:\n",
        "    kp, desc = sift.detectAndCompute(img, None)\n",
        "    all_kp.append(kp)\n",
        "    all_desc.append(desc)\n",
        "\n",
        "# Stack all the descriptors vertically to form a database of SIFT descriptors\n",
        "sift_database = np.vstack(all_desc)\n",
        "\n",
        "# Save the database to a file\n",
        "np.save(\"sift_database.npy\", sift_database)"
      ],
      "metadata": {
        "id": "xxyxGjr0Md-Z"
      },
      "execution_count": 100,
      "outputs": []
    },
    {
      "cell_type": "code",
      "source": [
        "test_images = []\n",
        "test_labels = []\n",
        "for i in range(num_classes):\n",
        "    label_path = os.path.join(root, f'CelebA/data/{i+1}')\n",
        "    files = os.listdir(label_path)\n",
        "    for file_name in files[1:]:\n",
        "        img = cv2.imread(os.path.join(label_path, file_name), cv2.IMREAD_GRAYSCALE)\n",
        "        faces_bound = face_cascade.detectMultiScale(img, scaleFactor=1.2, minNeighbors=5)\n",
        "        if len(faces_bound) > 0:\n",
        "            (x, y, w, h) = faces_bound[0]\n",
        "            face = img[y:y+h, x:x+w]\n",
        "            face = cv2.resize(face, (128, 128))\n",
        "            test_images.append(face)\n",
        "            test_labels.append(i)"
      ],
      "metadata": {
        "id": "k4LTb9NdW1yX"
      },
      "execution_count": 101,
      "outputs": []
    },
    {
      "cell_type": "code",
      "source": [
        "sift = cv2.SIFT_create(nfeatures=1000)\n",
        "bf = cv2.BFMatcher()\n",
        "db_desc = np.load(\"sift_database.npy\")\n",
        "\n",
        "predictions = []\n",
        "\n",
        "for i in range(len(test_images)):\n",
        "    kp_test, desc_test = sift.detectAndCompute(test_images[i], None)\n",
        "    \n",
        "    # Match the SIFT descriptors from the test image against the database descriptors using the Brute-Force Matcher\n",
        "    matches = bf.knnMatch(desc_test, db_desc, k=2)\n",
        "\n",
        "    # Apply ratio test to filter out spurious matches\n",
        "    good_matches = []\n",
        "    for m, n in matches:\n",
        "        if m.distance <  0.7 * n.distance:\n",
        "            good_matches.append(m)\n",
        "\n",
        "    # Get the indices of the matched database descriptors\n",
        "    matched_indices = [m.trainIdx for m in good_matches]\n",
        "\n",
        "\n",
        "    # Get the number of matches for each person in the group photo\n",
        "    matches_count = np.zeros(num_classes)\n",
        "    for idx in matched_indices:\n",
        "        matches_count[idx // 128] += 1\n",
        "\n",
        "    # Get the index of the person with the most matches\n",
        "    max_idx = np.argmax(matches_count)\n",
        "\n",
        "    predictions.append(max_idx)"
      ],
      "metadata": {
        "id": "phblvEUOXPI2"
      },
      "execution_count": 102,
      "outputs": []
    },
    {
      "cell_type": "code",
      "source": [
        "print(classification_report(test_labels, predictions))"
      ],
      "metadata": {
        "colab": {
          "base_uri": "https://localhost:8080/"
        },
        "id": "yF0dqrJ5s7g0",
        "outputId": "b4972895-4eaa-44bd-cb74-0774c57ca90c"
      },
      "execution_count": 103,
      "outputs": [
        {
          "output_type": "stream",
          "name": "stdout",
          "text": [
            "              precision    recall  f1-score   support\n",
            "\n",
            "           0       0.41      0.76      0.54        25\n",
            "           1       0.00      0.00      0.00         5\n",
            "           2       0.57      0.68      0.62        19\n",
            "           3       0.08      0.05      0.06        21\n",
            "           4       0.00      0.00      0.00        18\n",
            "\n",
            "    accuracy                           0.38        88\n",
            "   macro avg       0.21      0.30      0.24        88\n",
            "weighted avg       0.26      0.38      0.30        88\n",
            "\n"
          ]
        },
        {
          "output_type": "stream",
          "name": "stderr",
          "text": [
            "/usr/local/lib/python3.9/dist-packages/sklearn/metrics/_classification.py:1344: UndefinedMetricWarning: Precision and F-score are ill-defined and being set to 0.0 in labels with no predicted samples. Use `zero_division` parameter to control this behavior.\n",
            "  _warn_prf(average, modifier, msg_start, len(result))\n",
            "/usr/local/lib/python3.9/dist-packages/sklearn/metrics/_classification.py:1344: UndefinedMetricWarning: Precision and F-score are ill-defined and being set to 0.0 in labels with no predicted samples. Use `zero_division` parameter to control this behavior.\n",
            "  _warn_prf(average, modifier, msg_start, len(result))\n",
            "/usr/local/lib/python3.9/dist-packages/sklearn/metrics/_classification.py:1344: UndefinedMetricWarning: Precision and F-score are ill-defined and being set to 0.0 in labels with no predicted samples. Use `zero_division` parameter to control this behavior.\n",
            "  _warn_prf(average, modifier, msg_start, len(result))\n"
          ]
        }
      ]
    },
    {
      "cell_type": "code",
      "source": [
        "accuracy_score(test_labels, predictions)"
      ],
      "metadata": {
        "colab": {
          "base_uri": "https://localhost:8080/"
        },
        "id": "FV3BWmzhkvZZ",
        "outputId": "bd371c0d-a857-455f-bad8-08f006b6794d"
      },
      "execution_count": 104,
      "outputs": [
        {
          "output_type": "execute_result",
          "data": {
            "text/plain": [
              "0.375"
            ]
          },
          "metadata": {},
          "execution_count": 104
        }
      ]
    },
    {
      "cell_type": "code",
      "source": [
        "ind = 4\n",
        "print(\"True Label\", test_labels[ind])\n",
        "print(\"Predicted Label\", predictions[ind])\n",
        "plt.imshow(test_images[ind], cmap=\"gray\")\n",
        "plt.show()"
      ],
      "metadata": {
        "colab": {
          "base_uri": "https://localhost:8080/",
          "height": 303
        },
        "id": "UE1ThOo8BHlq",
        "outputId": "e4261ae7-539e-462e-b422-e004014c4c2f"
      },
      "execution_count": 110,
      "outputs": [
        {
          "output_type": "stream",
          "name": "stdout",
          "text": [
            "True Label 0\n",
            "Predicted Label 1\n"
          ]
        },
        {
          "output_type": "display_data",
          "data": {
            "text/plain": [
              "<Figure size 432x288 with 1 Axes>"
            ],
            "image/png": "[encoded data removed]"
          },
          "metadata": {
            "needs_background": "light"
          }
        }
      ]
    },
    {
      "cell_type": "markdown",
      "source": [
        "### CelebA Dataset - 10 Classes"
      ],
      "metadata": {
        "id": "GnYZy_SS8KHV"
      }
    },
    {
      "cell_type": "code",
      "source": [
        "num_classes = 10"
      ],
      "metadata": {
        "id": "tJGTQA538KHW"
      },
      "execution_count": 76,
      "outputs": []
    },
    {
      "cell_type": "code",
      "source": [
        "images = []\n",
        "labels = []\n",
        "for i in range(num_classes):\n",
        "    label_path = os.path.join(root, f'CelebA/data/{i+1}')\n",
        "    files = os.listdir(label_path)\n",
        "    for file_name in files:\n",
        "        img = cv2.imread(os.path.join(label_path, file_name), cv2.IMREAD_GRAYSCALE)\n",
        "        faces_bound = face_cascade.detectMultiScale(img, scaleFactor=1.2, minNeighbors=5)\n",
        "        if len(faces_bound) > 0:\n",
        "            (x, y, w, h) = faces_bound[0]\n",
        "            face = img[y:y+h, x:x+w]\n",
        "            face = cv2.resize(face, (128, 128))\n",
        "            images.append(face)\n",
        "            labels.append(i)\n",
        "            break"
      ],
      "metadata": {
        "id": "ikGVDoyp8KHX"
      },
      "execution_count": 77,
      "outputs": []
    },
    {
      "cell_type": "code",
      "source": [
        "\n",
        "# Initialize the SIFT detector\n",
        "sift = cv2.SIFT_create()\n",
        "\n",
        "# Extract SIFT features and descriptors from each image\n",
        "all_kp = []\n",
        "all_desc = []\n",
        "for img in images:\n",
        "    kp, desc = sift.detectAndCompute(img, None)\n",
        "    all_kp.append(kp)\n",
        "    all_desc.append(desc)\n",
        "\n",
        "# Stack all the descriptors vertically to form a database of SIFT descriptors\n",
        "sift_database = np.vstack(all_desc)\n",
        "\n",
        "# Save the database to a file\n",
        "np.save(\"sift_database.npy\", sift_database)"
      ],
      "metadata": {
        "id": "8b2a_ndb8KHX"
      },
      "execution_count": 78,
      "outputs": []
    },
    {
      "cell_type": "code",
      "source": [
        "test_images = []\n",
        "test_labels = []\n",
        "for i in range(num_classes):\n",
        "    label_path = os.path.join(root, f'CelebA/data/{i+1}')\n",
        "    files = os.listdir(label_path)\n",
        "    for file_name in files[1:]:\n",
        "        img = cv2.imread(os.path.join(label_path, file_name), cv2.IMREAD_GRAYSCALE)\n",
        "        faces_bound = face_cascade.detectMultiScale(img, scaleFactor=1.2, minNeighbors=5)\n",
        "        if len(faces_bound) > 0:\n",
        "            (x, y, w, h) = faces_bound[0]\n",
        "            face = img[y:y+h, x:x+w]\n",
        "            face = cv2.resize(face, (128, 128))\n",
        "            test_images.append(face)\n",
        "            test_labels.append(i)"
      ],
      "metadata": {
        "id": "17dKO-528KHX"
      },
      "execution_count": 79,
      "outputs": []
    },
    {
      "cell_type": "code",
      "source": [
        "sift = cv2.SIFT_create(nfeatures=1000)\n",
        "bf = cv2.BFMatcher()\n",
        "db_desc = np.load(\"sift_database.npy\")\n",
        "\n",
        "predictions = []\n",
        "\n",
        "for i in range(len(test_images)):\n",
        "    kp_test, desc_test = sift.detectAndCompute(test_images[i], None)\n",
        "    \n",
        "    # Match the SIFT descriptors from the test image against the database descriptors using the Brute-Force Matcher\n",
        "    matches = bf.knnMatch(desc_test, db_desc, k=2)\n",
        "\n",
        "    # Apply ratio test to filter out spurious matches\n",
        "    good_matches = []\n",
        "    for m, n in matches:\n",
        "        if m.distance <  0.7 * n.distance:\n",
        "            good_matches.append(m)\n",
        "\n",
        "    # Get the indices of the matched database descriptors\n",
        "    matched_indices = [m.trainIdx for m in good_matches]\n",
        "\n",
        "\n",
        "    # Get the number of matches for each person in the group photo\n",
        "    matches_count = np.zeros(num_classes)\n",
        "    for idx in matched_indices:\n",
        "        matches_count[idx // 128] += 1\n",
        "\n",
        "    # Get the index of the person with the most matches\n",
        "    max_idx = np.argmax(matches_count)\n",
        "\n",
        "    predictions.append(max_idx)"
      ],
      "metadata": {
        "id": "2xw4LOQK8KHX"
      },
      "execution_count": 80,
      "outputs": []
    },
    {
      "cell_type": "code",
      "source": [
        "print(classification_report(test_labels, predictions))"
      ],
      "metadata": {
        "colab": {
          "base_uri": "https://localhost:8080/"
        },
        "outputId": "8f88b6be-e5d6-466c-d9fd-1faafe5f6d68",
        "id": "kOAO1xcN8KHX"
      },
      "execution_count": 81,
      "outputs": [
        {
          "output_type": "stream",
          "name": "stdout",
          "text": [
            "              precision    recall  f1-score   support\n",
            "\n",
            "           0       0.24      0.80      0.37        25\n",
            "           1       0.00      0.00      0.00         5\n",
            "           2       0.40      0.53      0.45        19\n",
            "           3       0.06      0.05      0.05        21\n",
            "           4       0.00      0.00      0.00        18\n",
            "           5       0.00      0.00      0.00        10\n",
            "           6       0.10      0.05      0.06        21\n",
            "           7       0.00      0.00      0.00        21\n",
            "           8       0.00      0.00      0.00         3\n",
            "           9       0.00      0.00      0.00        17\n",
            "\n",
            "    accuracy                           0.20       160\n",
            "   macro avg       0.08      0.14      0.09       160\n",
            "weighted avg       0.11      0.20      0.13       160\n",
            "\n"
          ]
        },
        {
          "output_type": "stream",
          "name": "stderr",
          "text": [
            "/usr/local/lib/python3.9/dist-packages/sklearn/metrics/_classification.py:1344: UndefinedMetricWarning: Precision and F-score are ill-defined and being set to 0.0 in labels with no predicted samples. Use `zero_division` parameter to control this behavior.\n",
            "  _warn_prf(average, modifier, msg_start, len(result))\n",
            "/usr/local/lib/python3.9/dist-packages/sklearn/metrics/_classification.py:1344: UndefinedMetricWarning: Precision and F-score are ill-defined and being set to 0.0 in labels with no predicted samples. Use `zero_division` parameter to control this behavior.\n",
            "  _warn_prf(average, modifier, msg_start, len(result))\n",
            "/usr/local/lib/python3.9/dist-packages/sklearn/metrics/_classification.py:1344: UndefinedMetricWarning: Precision and F-score are ill-defined and being set to 0.0 in labels with no predicted samples. Use `zero_division` parameter to control this behavior.\n",
            "  _warn_prf(average, modifier, msg_start, len(result))\n"
          ]
        }
      ]
    },
    {
      "cell_type": "code",
      "source": [
        "accuracy_score(test_labels, predictions)"
      ],
      "metadata": {
        "colab": {
          "base_uri": "https://localhost:8080/"
        },
        "outputId": "f83836bf-9640-4940-e944-7b370ede516a",
        "id": "KXhFlrpy8KHY"
      },
      "execution_count": 82,
      "outputs": [
        {
          "output_type": "execute_result",
          "data": {
            "text/plain": [
              "0.2"
            ]
          },
          "metadata": {},
          "execution_count": 82
        }
      ]
    },
    {
      "cell_type": "markdown",
      "source": [
        "### Custom Dataset"
      ],
      "metadata": {
        "id": "836tah6pzGON"
      }
    },
    {
      "cell_type": "code",
      "source": [
        "num_classes = 4"
      ],
      "metadata": {
        "id": "IVgt9hiyzEth"
      },
      "execution_count": 65,
      "outputs": []
    },
    {
      "cell_type": "code",
      "source": [
        "images = []\n",
        "labels = []\n",
        "for i in range(num_classes):\n",
        "    label_path = os.path.join(root, f'Custom Dataset/data/{i+1}')\n",
        "    files = os.listdir(label_path)\n",
        "    for file_name in files:\n",
        "        img = cv2.imread(os.path.join(label_path, file_name), cv2.IMREAD_GRAYSCALE)\n",
        "        faces_bound = face_cascade.detectMultiScale(img, scaleFactor=1.2, minNeighbors=5)\n",
        "        if len(faces_bound) > 0:\n",
        "            (x, y, w, h) = faces_bound[0]\n",
        "            face = img[y:y+h, x:x+w]\n",
        "            face = cv2.resize(face, (128, 128))\n",
        "            images.append(face)\n",
        "            labels.append(i)\n",
        "            break"
      ],
      "metadata": {
        "id": "t9SF8VqPzEth"
      },
      "execution_count": 67,
      "outputs": []
    },
    {
      "cell_type": "code",
      "source": [
        "\n",
        "# Initialize the SIFT detector\n",
        "sift = cv2.SIFT_create()\n",
        "\n",
        "# Extract SIFT features and descriptors from each image\n",
        "all_kp = []\n",
        "all_desc = []\n",
        "for img in images:\n",
        "    kp, desc = sift.detectAndCompute(img, None)\n",
        "    all_kp.append(kp)\n",
        "    all_desc.append(desc)\n",
        "\n",
        "# Stack all the descriptors vertically to form a database of SIFT descriptors\n",
        "sift_database = np.vstack(all_desc)\n",
        "\n",
        "# Save the database to a file\n",
        "np.save(\"sift_database.npy\", sift_database)"
      ],
      "metadata": {
        "id": "5Y9Q5mZ0zEth"
      },
      "execution_count": 68,
      "outputs": []
    },
    {
      "cell_type": "code",
      "source": [
        "test_images = []\n",
        "test_labels = []\n",
        "for i in range(num_classes):\n",
        "    label_path = os.path.join(root, f'Custom Dataset/data/{i+1}')\n",
        "    files = os.listdir(label_path)\n",
        "    for file_name in files[1:]:\n",
        "        img = cv2.imread(os.path.join(label_path, file_name), cv2.IMREAD_GRAYSCALE)\n",
        "        faces_bound = face_cascade.detectMultiScale(img, scaleFactor=1.2, minNeighbors=5)\n",
        "        if len(faces_bound) > 0:\n",
        "            (x, y, w, h) = faces_bound[0]\n",
        "            face = img[y:y+h, x:x+w]\n",
        "            face = cv2.resize(face, (128, 128))\n",
        "            test_images.append(face)\n",
        "            test_labels.append(i)"
      ],
      "metadata": {
        "id": "dmanHbw4zEti"
      },
      "execution_count": 71,
      "outputs": []
    },
    {
      "cell_type": "code",
      "source": [
        "sift = cv2.SIFT_create(nfeatures=1000)\n",
        "bf = cv2.BFMatcher()\n",
        "db_desc = np.load(\"sift_database.npy\")\n",
        "\n",
        "predictions = []\n",
        "\n",
        "for i in range(len(test_images)):\n",
        "    kp_test, desc_test = sift.detectAndCompute(test_images[i], None)\n",
        "    \n",
        "    # Match the SIFT descriptors from the test image against the database descriptors using the Brute-Force Matcher\n",
        "    matches = bf.knnMatch(desc_test, db_desc, k=2)\n",
        "\n",
        "    # Apply ratio test to filter out spurious matches\n",
        "    good_matches = []\n",
        "    for m, n in matches:\n",
        "        if m.distance <  0.7 * n.distance:\n",
        "            good_matches.append(m)\n",
        "\n",
        "    # Get the indices of the matched database descriptors\n",
        "    matched_indices = [m.trainIdx for m in good_matches]\n",
        "\n",
        "\n",
        "    # Get the number of matches for each person in the group photo\n",
        "    matches_count = np.zeros(num_classes)\n",
        "    for idx in matched_indices:\n",
        "        matches_count[idx // 128] += 1\n",
        "\n",
        "    # Get the index of the person with the most matches\n",
        "    max_idx = np.argmax(matches_count)\n",
        "\n",
        "    predictions.append(max_idx)"
      ],
      "metadata": {
        "id": "8sbKDlmwzEti"
      },
      "execution_count": 72,
      "outputs": []
    },
    {
      "cell_type": "code",
      "source": [
        "print(classification_report(test_labels, predictions))"
      ],
      "metadata": {
        "colab": {
          "base_uri": "https://localhost:8080/"
        },
        "outputId": "fb284cba-d1ed-47df-de09-180675825b3d",
        "id": "JBxAkFtZzEtj"
      },
      "execution_count": 74,
      "outputs": [
        {
          "output_type": "stream",
          "name": "stdout",
          "text": [
            "              precision    recall  f1-score   support\n",
            "\n",
            "           0       0.92      1.00      0.96        36\n",
            "           1       0.48      0.93      0.63        40\n",
            "           2       0.00      0.00      0.00        41\n",
            "           3       0.00      0.00      0.00        50\n",
            "\n",
            "    accuracy                           0.44       167\n",
            "   macro avg       0.35      0.48      0.40       167\n",
            "weighted avg       0.31      0.44      0.36       167\n",
            "\n"
          ]
        },
        {
          "output_type": "stream",
          "name": "stderr",
          "text": [
            "/usr/local/lib/python3.9/dist-packages/sklearn/metrics/_classification.py:1344: UndefinedMetricWarning: Precision and F-score are ill-defined and being set to 0.0 in labels with no predicted samples. Use `zero_division` parameter to control this behavior.\n",
            "  _warn_prf(average, modifier, msg_start, len(result))\n",
            "/usr/local/lib/python3.9/dist-packages/sklearn/metrics/_classification.py:1344: UndefinedMetricWarning: Precision and F-score are ill-defined and being set to 0.0 in labels with no predicted samples. Use `zero_division` parameter to control this behavior.\n",
            "  _warn_prf(average, modifier, msg_start, len(result))\n",
            "/usr/local/lib/python3.9/dist-packages/sklearn/metrics/_classification.py:1344: UndefinedMetricWarning: Precision and F-score are ill-defined and being set to 0.0 in labels with no predicted samples. Use `zero_division` parameter to control this behavior.\n",
            "  _warn_prf(average, modifier, msg_start, len(result))\n"
          ]
        }
      ]
    },
    {
      "cell_type": "code",
      "source": [
        "accuracy_score(test_labels, predictions)"
      ],
      "metadata": {
        "colab": {
          "base_uri": "https://localhost:8080/"
        },
        "outputId": "9d9322e4-091d-4835-c21f-f74a6a4e6f4d",
        "id": "oRybLYFpzEtj"
      },
      "execution_count": 75,
      "outputs": [
        {
          "output_type": "execute_result",
          "data": {
            "text/plain": [
              "0.437125748502994"
            ]
          },
          "metadata": {},
          "execution_count": 75
        }
      ]
    },
    {
      "cell_type": "code",
      "source": [],
      "metadata": {
        "id": "Ai7QY3LTzI3t"
      },
      "execution_count": 63,
      "outputs": []
    }
  ]
}